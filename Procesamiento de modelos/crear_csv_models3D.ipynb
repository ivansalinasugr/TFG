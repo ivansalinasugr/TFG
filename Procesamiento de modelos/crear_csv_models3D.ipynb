{
 "cells": [
  {
   "cell_type": "code",
   "execution_count": 1,
   "metadata": {},
   "outputs": [],
   "source": [
    "import os\n",
    "import csv"
   ]
  },
  {
   "cell_type": "code",
   "execution_count": 2,
   "metadata": {},
   "outputs": [],
   "source": [
    "def buscar_archivos_obj(carpeta_principal, archivo_csv):\n",
    "    with open(archivo_csv, 'w', newline='') as csvfile:\n",
    "        csv_writer = csv.writer(csvfile)\n",
    "        indice = 1\n",
    "        for root, dirs, files in os.walk(carpeta_principal):\n",
    "            # files = sorted(files)\n",
    "            for archivo in files:\n",
    "                if archivo.endswith('.obj'):\n",
    "                    ruta_relativa = os.path.relpath(os.path.join(root, archivo), carpeta_principal)\n",
    "                    csv_writer.writerow([ruta_relativa, indice])\n",
    "                    indice += 1\n",
    "            \n"
   ]
  },
  {
   "cell_type": "code",
   "execution_count": 3,
   "metadata": {},
   "outputs": [
    {
     "name": "stdout",
     "output_type": "stream",
     "text": [
      "Proceso completado. Los resultados se han guardado en models_3D.csv\n"
     ]
    }
   ],
   "source": [
    "# Carpeta principal que contiene las 4 carpetas\n",
    "carpeta_principal = \"models\"\n",
    "\n",
    "# Nombre del archivo CSV donde se guardarán los resultados\n",
    "archivo_csv = \"models_3D.csv\"\n",
    "\n",
    "buscar_archivos_obj(carpeta_principal, archivo_csv)\n",
    "print(\"Proceso completado. Los resultados se han guardado en\", archivo_csv)"
   ]
  }
 ],
 "metadata": {
  "kernelspec": {
   "display_name": "Python 3",
   "language": "python",
   "name": "python3"
  },
  "language_info": {
   "codemirror_mode": {
    "name": "ipython",
    "version": 3
   },
   "file_extension": ".py",
   "mimetype": "text/x-python",
   "name": "python",
   "nbconvert_exporter": "python",
   "pygments_lexer": "ipython3",
   "version": "3.11.0"
  }
 },
 "nbformat": 4,
 "nbformat_minor": 2
}
