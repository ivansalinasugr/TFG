{
 "cells": [
  {
   "cell_type": "markdown",
   "metadata": {},
   "source": [
    "Este notebook renombra y modifica algunos archivos de texturas y materiales para que en blender no diese problema"
   ]
  },
  {
   "cell_type": "code",
   "execution_count": 1,
   "metadata": {},
   "outputs": [],
   "source": [
    "import os\n",
    "import shutil"
   ]
  },
  {
   "cell_type": "code",
   "execution_count": 6,
   "metadata": {},
   "outputs": [],
   "source": [
    "def rename_bmp(file_path):\n",
    "    directory, filename = os.path.split(file_path)\n",
    "    new_filename = \"material_0.png\"\n",
    "    new_file_path = os.path.join(directory, new_filename)\n",
    "    shutil.move(file_path, new_file_path)\n",
    "    print(f\"Renombrado {filename} a {new_filename}\")\n",
    "\n",
    "def replace_text_in_mtl(file_path, original_filename):\n",
    "    with open(file_path, 'r') as file:\n",
    "        mtl_content = file.read()\n",
    "    \n",
    "    original_filename = original_filename + \"_0\"\n",
    "    new_content = mtl_content.replace(original_filename, 'material_0')\n",
    "    \n",
    "    with open(file_path, 'w') as file:\n",
    "        file.write(new_content)\n",
    "    \n",
    "    print(f\"Actualizado {file_path}\")\n",
    "\n",
    "def process_directory(directory):\n",
    "    for root, _, files in os.walk(directory):\n",
    "        for file in files:\n",
    "            if file.endswith('.png'):\n",
    "                file_path = os.path.join(root, file)\n",
    "                rename_bmp(file_path)\n",
    "            elif file.endswith('.mtl'):\n",
    "                file_path = os.path.join(root, file)\n",
    "                replace_text_in_mtl(file_path, file.split('.')[0])\n"
   ]
  },
  {
   "cell_type": "code",
   "execution_count": 7,
   "metadata": {},
   "outputs": [
    {
     "name": "stdout",
     "output_type": "stream",
     "text": [
      "Actualizado models/HuMMan/modelo_3/000000.mtl\n",
      "Renombrado 000000_0.png a material_0.png\n",
      "Actualizado models/HuMMan/modelo_4/000060.mtl\n",
      "Renombrado 000060_0.png a material_0.png\n",
      "Actualizado models/HuMMan/modelo_5/000000.mtl\n",
      "Renombrado 000000_0.png a material_0.png\n",
      "Actualizado models/HuMMan/modelo_2/000000.mtl\n",
      "Renombrado 000000_0.png a material_0.png\n",
      "Actualizado models/HuMMan/modelo_12/000000.mtl\n",
      "Renombrado 000000_0.png a material_0.png\n",
      "Actualizado models/HuMMan/modelo_15/000000.mtl\n",
      "Renombrado 000000_0.png a material_0.png\n",
      "Actualizado models/HuMMan/modelo_14/000000.mtl\n",
      "Renombrado 000000_0.png a material_0.png\n",
      "Actualizado models/HuMMan/modelo_13/000000.mtl\n",
      "Renombrado 000000_0.png a material_0.png\n",
      "Actualizado models/HuMMan/modelo_9/000000.mtl\n",
      "Renombrado 000000_0.png a material_0.png\n",
      "Actualizado models/HuMMan/modelo_7/000000.mtl\n",
      "Renombrado 000000_0.png a material_0.png\n",
      "Actualizado models/HuMMan/modelo_0/000000.mtl\n",
      "Renombrado 000000_0.png a material_0.png\n",
      "Actualizado models/HuMMan/modelo_1/000000.mtl\n",
      "Renombrado 000000_0.png a material_0.png\n",
      "Actualizado models/HuMMan/modelo_6/000000.mtl\n",
      "Renombrado 000000_0.png a material_0.png\n",
      "Actualizado models/HuMMan/modelo_8/000000.mtl\n",
      "Renombrado 000000_0.png a material_0.png\n",
      "Actualizado models/HuMMan/modelo_18/000000.mtl\n",
      "Renombrado 000000_0.png a material_0.png\n",
      "Actualizado models/HuMMan/modelo_16/000000.mtl\n",
      "Renombrado 000000_0.png a material_0.png\n",
      "Renombrado 000390_0.png a material_0.png\n",
      "Actualizado models/HuMMan/modelo_11/000390.mtl\n",
      "Actualizado models/HuMMan/modelo_10/000000.mtl\n",
      "Renombrado 000000_0.png a material_0.png\n",
      "Actualizado models/HuMMan/modelo_17/000000.mtl\n",
      "Renombrado 000000_0.png a material_0.png\n",
      "Actualizado models/HuMMan/modelo_19/000000.mtl\n",
      "Renombrado 000000_0.png a material_0.png\n"
     ]
    }
   ],
   "source": [
    "directory_path = \"models/HuMMan\"\n",
    "process_directory(directory_path)"
   ]
  }
 ],
 "metadata": {
  "kernelspec": {
   "display_name": "Python 3",
   "language": "python",
   "name": "python3"
  },
  "language_info": {
   "codemirror_mode": {
    "name": "ipython",
    "version": 3
   },
   "file_extension": ".py",
   "mimetype": "text/x-python",
   "name": "python",
   "nbconvert_exporter": "python",
   "pygments_lexer": "ipython3",
   "version": "3.11.0"
  }
 },
 "nbformat": 4,
 "nbformat_minor": 2
}
