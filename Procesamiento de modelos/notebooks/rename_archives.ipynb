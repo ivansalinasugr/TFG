{
 "cells": [
  {
   "cell_type": "markdown",
   "metadata": {},
   "source": [
    "Este notebook renombra y modifica algunos archivos de texturas y materiales para que en blender no diese problema"
   ]
  },
  {
   "cell_type": "code",
   "execution_count": 4,
   "metadata": {},
   "outputs": [],
   "source": [
    "import os\n",
    "import shutil"
   ]
  },
  {
   "cell_type": "code",
   "execution_count": 5,
   "metadata": {},
   "outputs": [],
   "source": [
    "def rename_bmp(file_path):\n",
    "    directory, filename = os.path.split(file_path)\n",
    "    new_filename = \"material_0.bmp\"\n",
    "    new_file_path = os.path.join(directory, new_filename)\n",
    "    shutil.move(file_path, new_file_path)\n",
    "    print(f\"Renombrado {filename} a {new_filename}\")\n",
    "\n",
    "def replace_text_in_mtl(file_path, original_filename):\n",
    "    with open(file_path, 'r') as file:\n",
    "        mtl_content = file.read()\n",
    "    \n",
    "    original_filename = original_filename\n",
    "    #new_content = mtl_content.replace(original_filename, 'material_0')\n",
    "    new_content = mtl_content.replace(\"merged_material\", 'material_0')\n",
    "    \n",
    "    with open(file_path, 'w') as file:\n",
    "        file.write(new_content)\n",
    "    \n",
    "    print(f\"Actualizado {file_path}\")\n",
    "\n",
    "def process_directory(directory):\n",
    "    for root, _, files in os.walk(directory):\n",
    "        for file in files:\n",
    "            # if file.endswith('.bmp'):\n",
    "            #     file_path = os.path.join(root, file)\n",
    "            #     rename_bmp(file_path)\n",
    "            if file.endswith('.mtl'):\n",
    "                file_path = os.path.join(root, file)\n",
    "                replace_text_in_mtl(file_path, file.split('.')[0])\n"
   ]
  },
  {
   "cell_type": "code",
   "execution_count": 6,
   "metadata": {},
   "outputs": [
    {
     "name": "stdout",
     "output_type": "stream",
     "text": [
      "Actualizado models/Stirling DB/modelo_38/M1009_U.mtl\n",
      "Actualizado models/Stirling DB/modelo_31/F1004_U.mtl\n",
      "Actualizado models/Stirling DB/modelo_36/F1013_H1_2.mtl\n",
      "Actualizado models/Stirling DB/modelo_37/f1022_H1.mtl\n",
      "Actualizado models/Stirling DB/modelo_30/f1026_A.mtl\n",
      "Actualizado models/Stirling DB/modelo_39/f1017_S.mtl\n",
      "Actualizado models/Stirling DB/modelo_3/F1003_U.mtl\n",
      "Actualizado models/Stirling DB/modelo_4/f1024_F.mtl\n",
      "Actualizado models/Stirling DB/modelo_5/f1016_A.mtl\n",
      "Actualizado models/Stirling DB/modelo_2/f1017_F.mtl\n",
      "Actualizado models/Stirling DB/modelo_41/f1019_N.mtl\n",
      "Actualizado models/Stirling DB/modelo_46/F1006_D.mtl\n",
      "Actualizado models/Stirling DB/modelo_48/F1005_U.mtl\n",
      "Actualizado models/Stirling DB/modelo_23/f1019_H1.mtl\n",
      "Actualizado models/Stirling DB/modelo_24/F1013_S_2.mtl\n",
      "Actualizado models/Stirling DB/modelo_12/f1012_F.mtl\n",
      "Actualizado models/Stirling DB/modelo_15/M1005_H2.mtl\n",
      "Actualizado models/Stirling DB/modelo_49/F1005_A.mtl\n",
      "Actualizado models/Stirling DB/modelo_47/F1010_F2.mtl\n",
      "Actualizado models/Stirling DB/modelo_40/f1011_H2.mtl\n",
      "Actualizado models/Stirling DB/modelo_14/M1002_D.mtl\n",
      "Actualizado models/Stirling DB/modelo_13/M1009_A.mtl\n",
      "Actualizado models/Stirling DB/modelo_25/F1009_S.mtl\n",
      "Actualizado models/Stirling DB/modelo_22/M1015_A.mtl\n",
      "Actualizado models/Stirling DB/modelo_35/f1023_H2.mtl\n",
      "Actualizado models/Stirling DB/modelo_32/F1008_H2.mtl\n",
      "Actualizado models/Stirling DB/modelo_33/f1021_U.mtl\n",
      "Actualizado models/Stirling DB/modelo_34/M1008_N.mtl\n",
      "Actualizado models/Stirling DB/modelo_9/f1021_H1.mtl\n",
      "Actualizado models/Stirling DB/modelo_7/F1002_F.mtl\n",
      "Actualizado models/Stirling DB/modelo_0/F1009_A.mtl\n",
      "Actualizado models/Stirling DB/modelo_1/f1028_H1.mtl\n",
      "Actualizado models/Stirling DB/modelo_6/f1011_S.mtl\n",
      "Actualizado models/Stirling DB/modelo_8/M1008_U.mtl\n",
      "Actualizado models/Stirling DB/modelo_18/f1020_H2.mtl\n",
      "Actualizado models/Stirling DB/modelo_27/f1013_S.mtl\n",
      "Actualizado models/Stirling DB/modelo_20/f1022_A.mtl\n",
      "Actualizado models/Stirling DB/modelo_29/f1018_S.mtl\n",
      "Actualizado models/Stirling DB/modelo_16/f1025_D.mtl\n",
      "Actualizado models/Stirling DB/modelo_11/f1013_U.mtl\n",
      "Actualizado models/Stirling DB/modelo_45/F1002_N.mtl\n",
      "Actualizado models/Stirling DB/modelo_42/f1014_A.mtl\n",
      "Actualizado models/Stirling DB/modelo_10/F1004_D.mtl\n",
      "Actualizado models/Stirling DB/modelo_28/F1003_F.mtl\n",
      "Actualizado models/Stirling DB/modelo_17/f1029_F.mtl\n",
      "Actualizado models/Stirling DB/modelo_21/f1015_H2.mtl\n",
      "Actualizado models/Stirling DB/modelo_19/F1006_H1.mtl\n",
      "Actualizado models/Stirling DB/modelo_26/f1016_D.mtl\n",
      "Actualizado models/Stirling DB/modelo_43/F1007_F.mtl\n",
      "Actualizado models/Stirling DB/modelo_44/F1007_S.mtl\n"
     ]
    }
   ],
   "source": [
    "directory_path = \"models/Stirling DB\"\n",
    "process_directory(directory_path)"
   ]
  }
 ],
 "metadata": {
  "kernelspec": {
   "display_name": "Python 3",
   "language": "python",
   "name": "python3"
  },
  "language_info": {
   "codemirror_mode": {
    "name": "ipython",
    "version": 3
   },
   "file_extension": ".py",
   "mimetype": "text/x-python",
   "name": "python",
   "nbconvert_exporter": "python",
   "pygments_lexer": "ipython3",
   "version": "3.11.0"
  }
 },
 "nbformat": 4,
 "nbformat_minor": 2
}
