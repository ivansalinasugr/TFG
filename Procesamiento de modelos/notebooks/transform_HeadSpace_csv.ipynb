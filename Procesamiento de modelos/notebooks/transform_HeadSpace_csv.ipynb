{
 "cells": [
  {
   "cell_type": "markdown",
   "metadata": {},
   "source": [
    "Este notebook transforma el .xlsx con las descripciones de los modelos de HeadSpace en un .csv con los nombres tras aplicar las transformaciones"
   ]
  },
  {
   "cell_type": "code",
   "execution_count": null,
   "metadata": {},
   "outputs": [],
   "source": [
    "import pandas as pd\n",
    "import re"
   ]
  },
  {
   "cell_type": "code",
   "execution_count": null,
   "metadata": {},
   "outputs": [],
   "source": [
    "# Cargar el archivo .csv\n",
    "csv_file = \"matrices_transformacion.csv\"\n",
    "df_csv = pd.read_csv(csv_file, header=None)\n",
    "\n",
    "# Cargar el archivo .xlsx\n",
    "xlsx_file = \"datasets/HeadSpace/ZachFishman_headspace_table.xlsx\"\n",
    "df_xlsx = pd.read_excel(xlsx_file)\n"
   ]
  },
  {
   "cell_type": "code",
   "execution_count": null,
   "metadata": {},
   "outputs": [],
   "source": [
    "df_xlsx"
   ]
  },
  {
   "cell_type": "code",
   "execution_count": null,
   "metadata": {},
   "outputs": [],
   "source": [
    "# Función para extraer el número de la cadena utilizando expresiones regulares\n",
    "def extraer_numero(cadena):\n",
    "    numero = re.search(r'/(\\d+)/', cadena).group(1)  # Busca el número entre dos barras\n",
    "    return int(numero)\n",
    "\n",
    "# Aplicamos la función a la columna 'ruta' y guardamos los resultados en una nueva columna 'numero'\n",
    "df_csv[0] = df_csv[0].apply(extraer_numero)\n",
    "\n",
    "# Reemplazamos la columna 'ruta' con los valores de la columna 'numero'\n",
    "# df_csv['ruta'] = df_csv['numero']\n",
    "\n",
    "# # Eliminamos la columna 'numero' si no la necesitas\n",
    "# df_csv.drop('numero', axis=1, inplace=True)"
   ]
  },
  {
   "cell_type": "code",
   "execution_count": null,
   "metadata": {},
   "outputs": [],
   "source": [
    "df_csv"
   ]
  },
  {
   "cell_type": "code",
   "execution_count": null,
   "metadata": {},
   "outputs": [],
   "source": [
    "# Encontrar la fila correspondiente de cada número de df1 en df2\n",
    "df_xlsx['id'] = df_xlsx['id'].apply(lambda x: df_csv[df_csv[0] == x].index[0] if x in df_csv[0].values else -1).astype(int)\n",
    "\n",
    "# Mostrar el resultado\n",
    "df_xlsx"
   ]
  },
  {
   "cell_type": "code",
   "execution_count": null,
   "metadata": {},
   "outputs": [],
   "source": [
    "# Eliminar las filas con valor -1 en la columna 'fila_en_df2'\n",
    "df_xlsx = df_xlsx[df_xlsx['id'] != -1]"
   ]
  },
  {
   "cell_type": "code",
   "execution_count": null,
   "metadata": {},
   "outputs": [],
   "source": [
    "df_xlsx = df_xlsx.sort_values(by='id')\n",
    "# Reiniciar los índices\n",
    "df_xlsx.reset_index(drop=True, inplace=True)"
   ]
  },
  {
   "cell_type": "code",
   "execution_count": null,
   "metadata": {},
   "outputs": [],
   "source": [
    "# Agregar el prefijo \"modelo_\" a cada número en la columna 'id'\n",
    "df_xlsx['id'] = 'modelo_' + df_xlsx['id'].astype(str)"
   ]
  },
  {
   "cell_type": "code",
   "execution_count": null,
   "metadata": {},
   "outputs": [],
   "source": [
    "df_xlsx"
   ]
  },
  {
   "cell_type": "code",
   "execution_count": null,
   "metadata": {},
   "outputs": [],
   "source": [
    "# Guardar el DataFrame como archivo CSV\n",
    "df_xlsx.to_csv('modelos_HeadSpace.csv', index=True)"
   ]
  }
 ],
 "metadata": {
  "kernelspec": {
   "display_name": "Python 3",
   "language": "python",
   "name": "python3"
  },
  "language_info": {
   "codemirror_mode": {
    "name": "ipython",
    "version": 3
   },
   "file_extension": ".py",
   "mimetype": "text/x-python",
   "name": "python",
   "nbconvert_exporter": "python",
   "pygments_lexer": "ipython3",
   "version": "3.11.0"
  }
 },
 "nbformat": 4,
 "nbformat_minor": 2
}
