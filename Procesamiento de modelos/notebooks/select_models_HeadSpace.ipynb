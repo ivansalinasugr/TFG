{
 "cells": [
  {
   "cell_type": "markdown",
   "metadata": {},
   "source": [
    "Este notebook se utiliza para elegir el subconjunto de modelos en HeadSpace"
   ]
  },
  {
   "cell_type": "code",
   "execution_count": 1,
   "metadata": {},
   "outputs": [],
   "source": [
    "import pandas as pd\n",
    "import shutil"
   ]
  },
  {
   "cell_type": "code",
   "execution_count": 2,
   "metadata": {},
   "outputs": [
    {
     "name": "stdout",
     "output_type": "stream",
     "text": [
      "      Unnamed: 0           id  gender declaredethnicGroup   age eyeColour  \\\n",
      "678          678   modelo_678  female       white british  23.0      blue   \n",
      "879          879   modelo_879  female       white british  22.0      blue   \n",
      "900          900   modelo_900    male      latin american  55.0     brown   \n",
      "243          243   modelo_243    male       white british  22.0     green   \n",
      "328          328   modelo_328    male       white british  28.0     brown   \n",
      "461          461   modelo_461    male       white british  53.0     brown   \n",
      "254          254   modelo_254  female       white british  45.0      blue   \n",
      "81            81    modelo_81  female       white british  33.0     brown   \n",
      "43            43    modelo_43  female       white british  17.0      blue   \n",
      "950          950   modelo_950  female               white  46.0      blue   \n",
      "1145        1145  modelo_1145  female       white british  53.0      blue   \n",
      "661          661   modelo_661    male       white british  38.0      blue   \n",
      "855          855   modelo_855    male         white welsh  21.0      blue   \n",
      "208          208   modelo_208  female       white british  27.0     brown   \n",
      "930          930   modelo_930  female       white british  47.0     brown   \n",
      "398          398   modelo_398    male       white british  19.0      blue   \n",
      "1048        1048  modelo_1048    male       white british  32.0      blue   \n",
      "1183        1183  modelo_1183    male       white british   NaN      blue   \n",
      "743          743   modelo_743  female         white other  31.0     green   \n",
      "1213        1213  modelo_1213    male       white british  27.0     brown   \n",
      "\n",
      "     hairColour expression beardDescriptor moustacheDescriptor  \\\n",
      "678       brown    neutral            none                none   \n",
      "879       brown    neutral            none                none   \n",
      "900       black    neutral            none                none   \n",
      "243       brown    neutral            none                none   \n",
      "328       brown    neutral            none                none   \n",
      "461       brown    neutral            none                none   \n",
      "254      ginger    neutral            none                none   \n",
      "81        brown    neutral            none                none   \n",
      "43       blonde    neutral            none                none   \n",
      "950       brown    neutral            none                none   \n",
      "1145      brown    neutral            none                none   \n",
      "661       brown    neutral            none                none   \n",
      "855      blonde    neutral            none                none   \n",
      "208       brown    neutral            none                none   \n",
      "930       brown    neutral            none                none   \n",
      "398       brown    neutral            none                none   \n",
      "1048      brown    neutral            none                none   \n",
      "1183      brown    neutral            none                none   \n",
      "743       brown    neutral            none                none   \n",
      "1213      brown    neutral            none                none   \n",
      "\n",
      "      spectaclesFlag          qualityDescriptor  hairBulgeFlag  \\\n",
      "678                0                       none            0.0   \n",
      "879                0                       none            0.0   \n",
      "900                0                       none            0.0   \n",
      "243                0           front hair bulge            1.0   \n",
      "328                0                       none            0.0   \n",
      "461                0                       none            0.0   \n",
      "254                0                       none            0.0   \n",
      "81                 0                       none            0.0   \n",
      "43                 0  hair bulge top of cranium            1.0   \n",
      "950                0                       none            0.0   \n",
      "1145               0                       none            0.0   \n",
      "661                0                       none            0.0   \n",
      "855                0                       none            0.0   \n",
      "208                0                       none            0.0   \n",
      "930                0                       none            1.0   \n",
      "398                0                       none            0.0   \n",
      "1048               0                       none            0.0   \n",
      "1183               0                       none            0.0   \n",
      "743                0                       none            0.0   \n",
      "1213               0                       none            0.0   \n",
      "\n",
      "      capArtefactFlag  cranialHoleFlag  underChinHoleFlag  \n",
      "678               0.0                0                  0  \n",
      "879               0.0                0                  0  \n",
      "900               0.0                0                  0  \n",
      "243               0.0                0                  0  \n",
      "328               0.0                0                  0  \n",
      "461               0.0                0                  1  \n",
      "254               0.0                0                  0  \n",
      "81                0.0                0                  0  \n",
      "43                0.0                0                  0  \n",
      "950               0.0                0                  0  \n",
      "1145              0.0                0                  0  \n",
      "661               0.0                0                  0  \n",
      "855               0.0                0                  0  \n",
      "208               0.0                0                  0  \n",
      "930               0.0                0                  0  \n",
      "398               0.0                0                  0  \n",
      "1048              0.0                0                  0  \n",
      "1183              0.0                0                  0  \n",
      "743               1.0                0                  0  \n",
      "1213              0.0                0                  0  \n"
     ]
    }
   ],
   "source": [
    "# Cargar el archivo CSV en un DataFrame\n",
    "df = pd.read_csv('modelos_HeadSpace.csv')\n",
    "\n",
    "# Filtrar las filas que contienen las palabras deseadas en la columna 'declaredethnicGroup'\n",
    "# filtered_df = df[df['declaredethnicGroup'].str.contains('white', case=False)]\n",
    "\n",
    "no_elegibles = ['633', '250', '693', '497', '251', '269', '260', '604', '1081', '39', '1086', '498', '834', '63', '941', '747', '520', '922', '748', '104', '505', '739', '706', '5', '908', '330', '503', '440', '681', '23', '12', '448', '286', '1012', '663', '209', '1070', '862', '698', '839', '897', '638', '772', '576', '728', '389', '513', '980', '928', '321', '1102', '541', '780', '959', '733', '332', '597', '904', '199', '704', '500', '351', '759', '750', '106', '1054', '877', '1053', '11', '486', '442', '72', '489']\n",
    "\n",
    "# Filtrar el DataFrame para excluir los modelos no elegibles\n",
    "filtered_df = df[~df['id'].isin(no_elegibles)].sample(n=20, random_state=42)\n",
    "\n",
    "# Imprimir el DataFrame filtrado\n",
    "print(filtered_df)\n",
    "\n",
    "# # Mostrar el DataFrame resultante\n",
    "# filtered_df\n"
   ]
  },
  {
   "cell_type": "code",
   "execution_count": null,
   "metadata": {},
   "outputs": [],
   "source": [
    "filtered_age_df = filtered_df.loc[filtered_df['age'] > 14]\n",
    "\n",
    "# Seleccionar aleatoriamente 30 filas del DataFrame filtrado por edad\n",
    "sampled_age_df = filtered_age_df.sample(n=30, random_state=42)  # random_state es opcional para reproducibilidad\n",
    "\n",
    "# Mostrar el DataFrame con las 30 filas seleccionadas aleatoriamente y con edades mayores a 14\n",
    "filtered_age_df"
   ]
  },
  {
   "cell_type": "code",
   "execution_count": null,
   "metadata": {},
   "outputs": [],
   "source": [
    "num_filas = filtered_age_df.shape[0]\n",
    "print(\"El DataFrame tiene {} filas.\".format(num_filas))"
   ]
  },
  {
   "cell_type": "code",
   "execution_count": 10,
   "metadata": {},
   "outputs": [
    {
     "name": "stdout",
     "output_type": "stream",
     "text": [
      "Las carpetas se han movido exitosamente.\n"
     ]
    }
   ],
   "source": [
    "# # Obtener la lista de nombres de carpeta del DataFrame filtrado\n",
    "# nombres_carpetas = filtered_df['id'].tolist()\n",
    "\n",
    "# # Directorio origen y destino\n",
    "# directorio_origen = 'results/HeadSpace/'\n",
    "# directorio_destino = 'results/HeadSpace-final/'\n",
    "\n",
    "# # Mover cada carpeta a directorio_destino\n",
    "# for nombre_carpeta in nombres_carpetas:\n",
    "#     origen = directorio_origen + nombre_carpeta\n",
    "#     destino = directorio_destino + nombre_carpeta\n",
    "#     shutil.copytree(origen, destino)\n",
    "\n",
    "# print(\"Las carpetas se han movido exitosamente.\")"
   ]
  }
 ],
 "metadata": {
  "kernelspec": {
   "display_name": "Python 3",
   "language": "python",
   "name": "python3"
  },
  "language_info": {
   "codemirror_mode": {
    "name": "ipython",
    "version": 3
   },
   "file_extension": ".py",
   "mimetype": "text/x-python",
   "name": "python",
   "nbconvert_exporter": "python",
   "pygments_lexer": "ipython3",
   "version": "3.11.0"
  }
 },
 "nbformat": 4,
 "nbformat_minor": 2
}
