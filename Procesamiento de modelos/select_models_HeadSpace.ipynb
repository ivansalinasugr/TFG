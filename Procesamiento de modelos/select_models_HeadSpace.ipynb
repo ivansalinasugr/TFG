{
 "cells": [
  {
   "cell_type": "markdown",
   "metadata": {},
   "source": [
    "Este notebook se utiliza para elegir el subconjunto de modelos en HeadSpace"
   ]
  },
  {
   "cell_type": "code",
   "execution_count": null,
   "metadata": {},
   "outputs": [],
   "source": [
    "import pandas as pd\n",
    "import shutil"
   ]
  },
  {
   "cell_type": "code",
   "execution_count": null,
   "metadata": {},
   "outputs": [],
   "source": [
    "# Cargar el archivo CSV en un DataFrame\n",
    "df = pd.read_csv('modelos_HeadSpace.csv')\n",
    "\n",
    "# Filtrar las filas que contienen las palabras deseadas en la columna 'declaredethnicGroup'\n",
    "filtered_df = df[df['declaredethnicGroup'].str.contains('white', case=False)]\n",
    "\n",
    "# Mostrar el DataFrame resultante\n",
    "filtered_df\n"
   ]
  },
  {
   "cell_type": "code",
   "execution_count": null,
   "metadata": {},
   "outputs": [],
   "source": [
    "filtered_age_df = filtered_df.loc[filtered_df['age'] > 14]\n",
    "\n",
    "# Seleccionar aleatoriamente 30 filas del DataFrame filtrado por edad\n",
    "# sampled_age_df = filtered_age_df.sample(n=30, random_state=42)  # random_state es opcional para reproducibilidad\n",
    "\n",
    "# Mostrar el DataFrame con las 30 filas seleccionadas aleatoriamente y con edades mayores a 14\n",
    "filtered_age_df"
   ]
  },
  {
   "cell_type": "code",
   "execution_count": null,
   "metadata": {},
   "outputs": [],
   "source": [
    "num_filas = filtered_age_df.shape[0]\n",
    "print(\"El DataFrame tiene {} filas.\".format(num_filas))"
   ]
  },
  {
   "cell_type": "code",
   "execution_count": null,
   "metadata": {},
   "outputs": [],
   "source": [
    "# Obtener la lista de nombres de carpeta del DataFrame filtrado\n",
    "nombres_carpetas = filtered_age_df['id'].tolist()\n",
    "\n",
    "# Directorio origen y destino\n",
    "directorio_origen = 'results/HeadSpace/'\n",
    "directorio_destino = 'results/HeadSpace-final/'\n",
    "\n",
    "# Mover cada carpeta a directorio_destino\n",
    "for nombre_carpeta in nombres_carpetas:\n",
    "    origen = directorio_origen + nombre_carpeta\n",
    "    destino = directorio_destino + nombre_carpeta\n",
    "    shutil.copytree(origen, destino)\n",
    "\n",
    "print(\"Las carpetas se han movido exitosamente.\")"
   ]
  }
 ],
 "metadata": {
  "kernelspec": {
   "display_name": "Python 3",
   "language": "python",
   "name": "python3"
  },
  "language_info": {
   "codemirror_mode": {
    "name": "ipython",
    "version": 3
   },
   "file_extension": ".py",
   "mimetype": "text/x-python",
   "name": "python",
   "nbconvert_exporter": "python",
   "pygments_lexer": "ipython3",
   "version": "3.11.0"
  }
 },
 "nbformat": 4,
 "nbformat_minor": 2
}
