{
 "cells": [
  {
   "cell_type": "code",
   "execution_count": 1,
   "metadata": {},
   "outputs": [],
   "source": [
    "import pandas as pd\n",
    "from SCD_Dataset import CustomImageDataset \n",
    "from torch.utils.data import DataLoader\n",
    "from sklearn.model_selection import train_test_split\n",
    "import matplotlib.pyplot as plt\n",
    "import torch\n",
    "import os\n",
    "import cv2\n",
    "import numpy as np"
   ]
  },
  {
   "cell_type": "code",
   "execution_count": 2,
   "metadata": {},
   "outputs": [],
   "source": [
    "torch.manual_seed(1)\n",
    "sub_sample_size = -1\n",
    "val_split = 0.2\n",
    "hparams = {\n",
    "    'image_shape': (224, 224, 3),\n",
    "    'batch_size': 32\n",
    "}"
   ]
  },
  {
   "cell_type": "code",
   "execution_count": 3,
   "metadata": {},
   "outputs": [
    {
     "name": "stdout",
     "output_type": "stream",
     "text": [
      "train images: 2956 val images: 739\n"
     ]
    }
   ],
   "source": [
    "data = pd.read_csv(\"../input/train_labels.csv\",sep=',')\n",
    "image_data=data.loc[:, data.columns != 'Distance'][:sub_sample_size]\n",
    "labels = data['Distance'].values[:sub_sample_size]\n",
    "X_train, X_test, Y_train, Y_test = train_test_split(image_data, labels, test_size=val_split, random_state=42)\n",
    "print(\"train images: \"+str(len(X_train))+\" val images: \"+str(len(X_test)))\n",
    "train_dataset = CustomImageDataset(X_train, Y_train, hparams, augment=True)\n",
    "val_dataset = CustomImageDataset(X_test, Y_test, hparams, augment=False)\n",
    "train_data = DataLoader(train_dataset, batch_size=hparams['batch_size'], shuffle=True)\n",
    "val_data = DataLoader(val_dataset, batch_size=hparams['batch_size'], shuffle=True)"
   ]
  },
  {
   "cell_type": "code",
   "execution_count": 4,
   "metadata": {},
   "outputs": [
    {
     "name": "stdout",
     "output_type": "stream",
     "text": [
      "Batch: 0\n",
      "Data shape: torch.Size([32, 3, 224, 224])\n",
      "Target shape: torch.Size([32])\n"
     ]
    }
   ],
   "source": [
    "show=False\n",
    "\n",
    "for batch_idx, (data, target) in enumerate(train_data):\n",
    "    print(\"Batch:\", batch_idx)\n",
    "    print(\"Data shape:\", data.shape)\n",
    "    print(\"Target shape:\", target.shape)\n",
    "    \n",
    "    # Mostrar las imágenes del primer batch\n",
    "    num_images_to_show = 20\n",
    "    \n",
    "    for i in range(num_images_to_show):\n",
    "        image = data[i].permute(1, 2, 0)\n",
    "        label = target[i]\n",
    "        \n",
    "        if show:\n",
    "            plt.imshow(image)\n",
    "            plt.title(f\"Label: {label}\")\n",
    "            plt.show()\n",
    "        else:\n",
    "            filename = os.path.join(\"img_aug\", f\"image_{i}_label_{label}.png\")\n",
    "            image_array = image.numpy()\n",
    "            image_rgb = np.flip(image_array, axis=-1) * 255\n",
    "            cv2.imwrite(filename,  image_rgb)\n",
    "     \n",
    "    break  # Solo mostramos el primer batch"
   ]
  }
 ],
 "metadata": {
  "kernelspec": {
   "display_name": "devfacialnet",
   "language": "python",
   "name": "python3"
  },
  "language_info": {
   "codemirror_mode": {
    "name": "ipython",
    "version": 3
   },
   "file_extension": ".py",
   "mimetype": "text/x-python",
   "name": "python",
   "nbconvert_exporter": "python",
   "pygments_lexer": "ipython3",
   "version": "3.11.7"
  }
 },
 "nbformat": 4,
 "nbformat_minor": 2
}
