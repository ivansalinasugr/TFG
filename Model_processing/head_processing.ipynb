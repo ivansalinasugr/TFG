{
 "cells": [
  {
   "cell_type": "markdown",
   "metadata": {},
   "source": [
    "# Procesado de modelos 3D"
   ]
  },
  {
   "cell_type": "code",
   "execution_count": 2,
   "metadata": {},
   "outputs": [
    {
     "name": "stderr",
     "output_type": "stream",
     "text": [
      "2023-12-27 20:02:58.551929: I tensorflow/tsl/cuda/cudart_stub.cc:28] Could not find cuda drivers on your machine, GPU will not be used.\n",
      "2023-12-27 20:02:58.734514: E tensorflow/compiler/xla/stream_executor/cuda/cuda_dnn.cc:9342] Unable to register cuDNN factory: Attempting to register factory for plugin cuDNN when one has already been registered\n",
      "2023-12-27 20:02:58.734559: E tensorflow/compiler/xla/stream_executor/cuda/cuda_fft.cc:609] Unable to register cuFFT factory: Attempting to register factory for plugin cuFFT when one has already been registered\n",
      "2023-12-27 20:02:58.735498: E tensorflow/compiler/xla/stream_executor/cuda/cuda_blas.cc:1518] Unable to register cuBLAS factory: Attempting to register factory for plugin cuBLAS when one has already been registered\n",
      "2023-12-27 20:02:58.823666: I tensorflow/tsl/cuda/cudart_stub.cc:28] Could not find cuda drivers on your machine, GPU will not be used.\n",
      "2023-12-27 20:02:58.824863: I tensorflow/core/platform/cpu_feature_guard.cc:182] This TensorFlow binary is optimized to use available CPU instructions in performance-critical operations.\n",
      "To enable the following instructions: AVX2 FMA, in other operations, rebuild TensorFlow with the appropriate compiler flags.\n",
      "2023-12-27 20:03:00.261853: W tensorflow/compiler/tf2tensorrt/utils/py_utils.cc:38] TF-TRT Warning: Could not find TensorRT\n"
     ]
    }
   ],
   "source": [
    "# Imports\n",
    "import trimesh\n",
    "import cv2\n",
    "import math\n",
    "import numpy as np\n",
    "import matplotlib.pyplot as plt\n",
    "import mediapipe as mp\n",
    "from mediapipe import solutions\n",
    "from mediapipe.framework.formats import landmark_pb2\n",
    "from mediapipe.tasks import python\n",
    "from mediapipe.tasks.python import vision\n",
    "import pyvista as pv\n",
    "from PIL import Image\n",
    "import vtk\n",
    "import csv\n",
    "import os"
   ]
  },
  {
   "cell_type": "markdown",
   "metadata": {},
   "source": [
    "Variables globales"
   ]
  },
  {
   "cell_type": "code",
   "execution_count": 3,
   "metadata": {},
   "outputs": [
    {
     "name": "stderr",
     "output_type": "stream",
     "text": [
      "WARNING: All log messages before absl::InitializeLog() is called are written to STDERR\n",
      "I0000 00:00:1703703783.506084   26990 gl_context_egl.cc:85] Successfully initialized EGL. Major : 1 Minor: 5\n",
      "I0000 00:00:1703703783.513099   27071 gl_context.cc:344] GL version: 3.2 (OpenGL ES 3.2 Mesa 23.0.4-0ubuntu1~22.04.1), renderer: AMD Radeon Vega 8 Graphics (raven, LLVM 15.0.7, DRM 3.49, 6.2.0-32-generic)\n",
      "W0000 00:00:1703703783.521943   26990 face_landmarker_graph.cc:174] Sets FaceBlendshapesGraph acceleration to xnnpack by default.\n",
      "INFO: Created TensorFlow Lite XNNPACK delegate for CPU.\n"
     ]
    }
   ],
   "source": [
    "# Nombre del archivo CSV\n",
    "archivo_csv = \"matrices_transformacion.csv\"\n",
    "\n",
    "os.remove(archivo_csv)\n",
    "\n",
    "# Lista de índices de landmarks para nariz, ojos y boca\n",
    "landmark_indices = [130, 27, 243, 23, 463, 257, 359, 253, 168, 61, 11, 291, 16]\n",
    "\n",
    "# Crear un objeto FaceLandmarker\n",
    "base_options = python.BaseOptions(model_asset_path='face_landmarker.task')\n",
    "VisionRunningMode = mp.tasks.vision.RunningMode\n",
    "options = vision.FaceLandmarkerOptions(base_options=base_options,\n",
    "                                       running_mode=VisionRunningMode.IMAGE,\n",
    "                                       output_face_blendshapes=True,\n",
    "                                       output_facial_transformation_matrixes=True,\n",
    "                                       num_faces=1)\n",
    "detector = vision.FaceLandmarker.create_from_options(options)"
   ]
  },
  {
   "cell_type": "markdown",
   "metadata": {},
   "source": [
    "### Funciones auxiliares"
   ]
  },
  {
   "cell_type": "markdown",
   "metadata": {},
   "source": [
    "Función para sacar una imagen 2D dado un objeto en 3D"
   ]
  },
  {
   "cell_type": "code",
   "execution_count": 4,
   "metadata": {},
   "outputs": [],
   "source": [
    "def take_screenshot(actors, plane, colors = None, textures = None, position = None, window_size = [1024, 768]):\n",
    "    \n",
    "    if position is None:\n",
    "        position = [0.0, 0.0, 0.0]\n",
    "\n",
    "        if plane.lower() == \"xy\" or plane.lower() == \"yx\":\n",
    "            position[2] = 1000.0\n",
    "        elif plane.lower() == \"yz\" or plane.lower() == \"zy\":\n",
    "            position[0] = 1000.0\n",
    "        elif plane.lower() == \"xz\" or plane.lower() == \"zx\":\n",
    "            position[1] = 1000.0 \n",
    "        else:\n",
    "            print(\"ERROR: Wrong plane\", plane)\n",
    "            exit(1)\n",
    "        \n",
    "\n",
    "    plotter = pv.Plotter(off_screen = True, window_size = window_size)\n",
    "    plotter.set_background(\"white\")\n",
    "\n",
    "    if colors is None:\n",
    "        colors = [None] * len(actors)\n",
    "\n",
    "    if textures is None:\n",
    "        textures = [None] * len(actors)\n",
    "\n",
    "    for actor, color, tex  in zip(actors, colors, textures):\n",
    "        _ = plotter.add_mesh(actor, color = color, texture = tex)\n",
    "\n",
    "    plotter.set_position(position)\n",
    "    plotter.set_focus([0.0, 0.0, 0.0])\n",
    "    plotter.enable_parallel_projection()\n",
    "    plotter.parallel_scale = 200\n",
    "\n",
    "    return np.array(plotter.screenshot()), plotter"
   ]
  },
  {
   "cell_type": "markdown",
   "metadata": {},
   "source": [
    "Función para pasar punto 2D a punto 3D"
   ]
  },
  {
   "cell_type": "code",
   "execution_count": 5,
   "metadata": {},
   "outputs": [],
   "source": [
    "def convert_2d_point_to_3d(pv_mesh, point, plotter):\n",
    "    \n",
    "    coordinate = vtk.vtkCoordinate()\n",
    "    coordinate.SetCoordinateSystemToNormalizedDisplay()\n",
    "\n",
    "    # the system coordinates is normalized, so 0.5 is the half of the image\n",
    "    coordinate.SetValue(point[0], point[1])\n",
    "    world_point = coordinate.GetComputedWorldValue(plotter.renderer)\n",
    "\n",
    "    start = [world_point[0], -world_point[1], 1000]\n",
    "    end = [world_point[0], -world_point[1], -1000]\n",
    "\n",
    "    points, _ = pv_mesh.ray_trace(start, end)\n",
    "\n",
    "    final_point = None\n",
    "\n",
    "    if len(points) > 0:\n",
    "        final_point = points[0]\n",
    "\n",
    "    return final_point"
   ]
  },
  {
   "cell_type": "markdown",
   "metadata": {},
   "source": [
    "Código para guardar los puntos en un .pp"
   ]
  },
  {
   "cell_type": "code",
   "execution_count": 6,
   "metadata": {},
   "outputs": [],
   "source": [
    "def guardar_pp(output_path, coordenadas_3d):\n",
    "    with open(output_path, \"w\") as f:\n",
    "        f.write(\"<!DOCTYPE PickedPoints>\\n\")\n",
    "        f.write(\"<PickedPoints>\\n\")\n",
    "        i = 0\n",
    "        for idx in coordenadas_3d:\n",
    "            x, y, z = idx[0], idx[1], idx[2]\n",
    "            f.write(\n",
    "                '<point x=\"{}\" y=\"{}\" z=\"{}\" active=\"1\" name=\"{}\" />\\n'.format(\n",
    "                    x, y, z, i\n",
    "                )\n",
    "            )\n",
    "            i += 1\n",
    "        f.write(\"</PickedPoints>\")"
   ]
  },
  {
   "cell_type": "markdown",
   "metadata": {},
   "source": [
    "Código para obtener coordenadas de los puntos clave"
   ]
  },
  {
   "cell_type": "code",
   "execution_count": 7,
   "metadata": {},
   "outputs": [],
   "source": [
    "def obtener_coordenadas(obj_file_path, texture_file_path, output_path):\n",
    "    # Obtener la imagen del modelo 3D\n",
    "    pv_mesh = pv.read(obj_file_path)\n",
    "    texture = pv.read_texture(texture_file_path)\n",
    "    screenshot, plotter = take_screenshot([pv_mesh], plane='xy', textures=[texture])\n",
    "    image = Image.fromarray(np.uint8(screenshot))\n",
    "    image.save('modelo_objetivo.png')\n",
    "\n",
    "    # Detectamos los face landmarks de la imagen\n",
    "    imagen = 'modelo_objetivo.png'\n",
    "    image = mp.Image.create_from_file(imagen)\n",
    "    detection_result = detector.detect(image)\n",
    "\n",
    "    puntos = []\n",
    "    for face_landmarks in detection_result.face_landmarks:\n",
    "        for idx in landmark_indices:\n",
    "            landmark = face_landmarks[idx]\n",
    "            # Crear un vector con coordenadas x, y\n",
    "            punto_2d = [landmark.x, landmark.y]\n",
    "            # Agregar el vector a la lista\n",
    "            puntos.append(punto_2d)\n",
    "    \n",
    "    # Calcular la coordenada z\n",
    "    coordenadas_3d = []\n",
    "\n",
    "    for point in puntos:\n",
    "        # Convertir cada punto 2D a 3D utilizando la función proporcionada\n",
    "        converted_point = convert_2d_point_to_3d(pv_mesh, point, plotter)\n",
    "        # Agregar el punto convertido a la lista\n",
    "        coordenadas_3d.append(converted_point)\n",
    "        \n",
    "    print(\"Coordenadas 3D resultantes:\", coordenadas_3d)\n",
    "    guardar_pp(output_path, coordenadas_3d)\n",
    "\n",
    "    return coordenadas_3d\n"
   ]
  },
  {
   "cell_type": "markdown",
   "metadata": {},
   "source": [
    "Función para guardar una matriz en el archivo CSV"
   ]
  },
  {
   "cell_type": "code",
   "execution_count": 8,
   "metadata": {},
   "outputs": [],
   "source": [
    "def guardar_matriz_en_csv(nombre, matriz, archivo_csv):\n",
    "    with open(archivo_csv, mode='a', newline='') as file:\n",
    "        writer = csv.writer(file)\n",
    "        valores_matriz = [valor for fila in matriz for valor in fila]\n",
    "        writer.writerow([nombre] + valores_matriz)"
   ]
  },
  {
   "cell_type": "markdown",
   "metadata": {},
   "source": [
    "### Obtener puntos clave modelo referencia"
   ]
  },
  {
   "cell_type": "markdown",
   "metadata": {},
   "source": [
    "Cargamos el modelo de referencia 3D"
   ]
  },
  {
   "cell_type": "code",
   "execution_count": 9,
   "metadata": {},
   "outputs": [
    {
     "name": "stdout",
     "output_type": "stream",
     "text": [
      "Coordenadas 3D resultantes: [array([-50.535995  ,   0.12711287, -17.447363  ], dtype=float32), array([-36.389015 ,  11.032248 ,  -1.3348794], dtype=float32), array([-15.461413 ,   1.2884259,  -4.4633584], dtype=float32), array([-32.29154  ,  -5.1018715,  -8.179023 ], dtype=float32), array([16.348997  ,  0.66007376, -4.3715014 ], dtype=float32), array([37.74045  , 10.050893 , -1.7948587], dtype=float32), array([ 50.77203  ,  -1.9906521, -16.822512 ], dtype=float32), array([32.82299  , -6.5261364, -6.097302 ], dtype=float32), array([ 1.393191 ,  5.5720925, 12.625529 ], dtype=float32), array([-23.518053, -66.90862 ,   2.458813], dtype=float32), array([  2.1766026, -60.613464 ,  17.643604 ], dtype=float32), array([ 25.888952 , -67.48111  ,   2.9253252], dtype=float32), array([  1.8618902, -71.569534 ,  15.830459 ], dtype=float32)]\n"
     ]
    }
   ],
   "source": [
    "# Ruta del archivo .obj\n",
    "obj_file_path = 'referencia/referencia.obj'\n",
    "texture_file_path = 'referencia/referencia.png'\n",
    "pp_file_path = 'referencia/referencia.pp'\n",
    "\n",
    "coord_ref = obtener_coordenadas(obj_file_path, texture_file_path, pp_file_path)"
   ]
  },
  {
   "cell_type": "markdown",
   "metadata": {},
   "source": [
    "### Obtener matriz de transformación para otro modelo"
   ]
  },
  {
   "cell_type": "code",
   "execution_count": 10,
   "metadata": {},
   "outputs": [
    {
     "name": "stdout",
     "output_type": "stream",
     "text": [
      "referencia/referencia\n",
      "HeadSpace/130929144738\n"
     ]
    }
   ],
   "source": [
    "archivos = []\n",
    "# ruta_carpeta = os.getcwd() + \"/HeadSpace\"\n",
    "ruta_carpeta = os.getcwd()\n",
    "for root , _, archs in os.walk(ruta_carpeta):\n",
    "    for archivo in archs:\n",
    "        # Verificar si el archivo tiene la extensión .obj\n",
    "        if archivo.endswith(\".obj\"):\n",
    "            ruta_archivo = os.path.join(root, archivo)\n",
    "            nombre, extension = os.path.splitext(ruta_archivo)\n",
    "            ruta_relativa = os.path.relpath(nombre, os.getcwd())\n",
    "            archivos.append(ruta_relativa)\n",
    "            print(ruta_relativa)"
   ]
  },
  {
   "cell_type": "code",
   "execution_count": 11,
   "metadata": {},
   "outputs": [
    {
     "name": "stdout",
     "output_type": "stream",
     "text": [
      "Coordenadas 3D resultantes: [array([-50.535995  ,   0.12711287, -17.447363  ], dtype=float32), array([-36.389015 ,  11.032248 ,  -1.3348794], dtype=float32), array([-15.461413 ,   1.2884259,  -4.4633584], dtype=float32), array([-32.29154  ,  -5.1018715,  -8.179023 ], dtype=float32), array([16.348997  ,  0.66007376, -4.3715014 ], dtype=float32), array([37.74045  , 10.050893 , -1.7948587], dtype=float32), array([ 50.77203  ,  -1.9906521, -16.822512 ], dtype=float32), array([32.82299  , -6.5261364, -6.097302 ], dtype=float32), array([ 1.393191 ,  5.5720925, 12.625529 ], dtype=float32), array([-23.518053, -66.90862 ,   2.458813], dtype=float32), array([  2.1766026, -60.613464 ,  17.643604 ], dtype=float32), array([ 25.888952 , -67.48111  ,   2.9253252], dtype=float32), array([  1.8618902, -71.569534 ,  15.830459 ], dtype=float32)]\n",
      "[[ 1.00000000e+00  1.27420028e-17 -1.28123117e-17 -2.22044605e-16]\n",
      " [-2.29407356e-17  1.00000000e+00  6.06101881e-17  3.55271368e-15]\n",
      " [ 4.32540806e-18  2.40829672e-17  1.00000000e+00 -4.44089210e-16]\n",
      " [ 0.00000000e+00  0.00000000e+00  0.00000000e+00  1.00000000e+00]]\n",
      "Coordenadas 3D resultantes: [array([-50.538204, -39.729477, 109.522705], dtype=float32), array([-36.764286, -27.479195, 121.308815], dtype=float32), array([-16.137743, -36.421085, 118.155045], dtype=float32), array([-32.975452, -43.963074, 120.32681 ], dtype=float32), array([ 13.588206, -36.336876, 116.3546  ], dtype=float32), array([ 32.946396, -26.865387, 116.77421 ], dtype=float32), array([ 45.832825, -39.219784, 105.004166], dtype=float32), array([ 29.483255, -43.451237, 118.379654], dtype=float32), array([ -0.19594829, -30.633402  , 132.1509    ], dtype=float32), array([ -27.137756, -100.06099 ,  126.46545 ], dtype=float32), array([  0.17836888, -95.11051   , 141.65295   ], dtype=float32), array([  25.30934, -100.4453 ,  121.73246], dtype=float32), array([ 1.21402740e-01, -1.04286385e+02,  1.42656097e+02], dtype=float32)]\n",
      "[[ 9.98391100e-01 -8.11738989e-03  5.61188060e-02  2.20122393e+00]\n",
      " [ 6.27955129e-03  9.99440625e-01  3.28481884e-02  3.63426283e+01]\n",
      " [-5.63540561e-02 -3.24429380e-02  9.97883598e-01 -1.22457141e+02]\n",
      " [ 0.00000000e+00  0.00000000e+00  0.00000000e+00  1.00000000e+00]]\n"
     ]
    }
   ],
   "source": [
    "for archivo in archivos:\n",
    "    # Ruta del archivo .obj\n",
    "    obj_file_path = archivo + \".obj\"\n",
    "    pp_file_path = archivo + \".pp\"\n",
    "    texture_file_path = archivo  + \".bmp\"\n",
    "    \n",
    "    # Verificar si el archivo .bmp existe\n",
    "    if not os.path.exists(texture_file_path):\n",
    "        texture_file_path = archivo + \".png\"\n",
    "\n",
    "    coord_obj = obtener_coordenadas(obj_file_path, texture_file_path, pp_file_path)\n",
    "\n",
    "    v0 = list(zip(*coord_ref))\n",
    "    v1 = list(zip(*coord_obj))\n",
    "    matriz_transformacion = trimesh.transformations.affine_matrix_from_points(v0, v1, shear=False,scale=False)\n",
    "\n",
    "    for i in range(3):\n",
    "        matriz_transformacion[i][3] *= -1\n",
    "\n",
    "    print(matriz_transformacion)\n",
    "\n",
    "    guardar_matriz_en_csv(obj_file_path, matriz_transformacion, archivo_csv)"
   ]
  }
 ],
 "metadata": {
  "kernelspec": {
   "display_name": "Python 3",
   "language": "python",
   "name": "python3"
  },
  "language_info": {
   "codemirror_mode": {
    "name": "ipython",
    "version": 3
   },
   "file_extension": ".py",
   "mimetype": "text/x-python",
   "name": "python",
   "nbconvert_exporter": "python",
   "pygments_lexer": "ipython3",
   "version": "3.10.12"
  }
 },
 "nbformat": 4,
 "nbformat_minor": 2
}
